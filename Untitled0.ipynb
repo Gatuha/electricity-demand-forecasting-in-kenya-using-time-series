{
  "nbformat": 4,
  "nbformat_minor": 0,
  "metadata": {
    "colab": {
      "provenance": [],
      "authorship_tag": "ABX9TyMG16uZuOgBCGrDwzi4EF6F",
      "include_colab_link": true
    },
    "kernelspec": {
      "name": "python3",
      "display_name": "Python 3"
    },
    "language_info": {
      "name": "python"
    }
  },
  "cells": [
    {
      "cell_type": "markdown",
      "metadata": {
        "id": "view-in-github",
        "colab_type": "text"
      },
      "source": [
        "<a href=\"https://colab.research.google.com/github/Gatuha/electricity-demard-forecast-in-kenya/blob/main/Untitled0.ipynb\" target=\"_parent\"><img src=\"https://colab.research.google.com/assets/colab-badge.svg\" alt=\"Open In Colab\"/></a>"
      ]
    },
    {
      "cell_type": "markdown",
      "source": [
        "##konesberg\n",
        "Import the required libraries"
      ],
      "metadata": {
        "id": "Ds1W-3YzxiR2"
      }
    },
    {
      "cell_type": "code",
      "execution_count": 2,
      "metadata": {
        "id": "vOu7PmkyxY8R"
      },
      "outputs": [],
      "source": [
        "import numpy as pd\n",
        "import networkx as nx"
      ]
    },
    {
      "cell_type": "markdown",
      "source": [
        "Creating an empty MultiGraph"
      ],
      "metadata": {
        "id": "6oE0peXtx4Nt"
      }
    },
    {
      "cell_type": "code",
      "source": [
        "G=nx.MultiGraph()"
      ],
      "metadata": {
        "id": "u5hXtsZdx9IN"
      },
      "execution_count": 3,
      "outputs": []
    },
    {
      "cell_type": "code",
      "source": [
        "print (\"number of edges\", G.number_of_edges())\n",
        "print (\"number of nodes\", G.number_of_nodes())"
      ],
      "metadata": {
        "colab": {
          "base_uri": "https://localhost:8080/"
        },
        "id": "ehZddv9RyHAj",
        "outputId": "3b610d1f-7fbd-4186-f2ba-d7d5fa39e1a0"
      },
      "execution_count": 4,
      "outputs": [
        {
          "output_type": "stream",
          "name": "stdout",
          "text": [
            "number of edges 0\n",
            "number of nodes 0\n"
          ]
        }
      ]
    },
    {
      "cell_type": "markdown",
      "source": [
        "Create a list of degrees for nodes"
      ],
      "metadata": {
        "id": "DJXaXEUNyOt1"
      }
    },
    {
      "cell_type": "code",
      "source": [
        "list(G.degree([\"A\",\"B\",\"C\",\"D\"]))"
      ],
      "metadata": {
        "colab": {
          "base_uri": "https://localhost:8080/"
        },
        "id": "zB7a2LkiyTZ7",
        "outputId": "7c43a986-d169-44fd-c2d5-c9771fe00b38"
      },
      "execution_count": 7,
      "outputs": [
        {
          "output_type": "execute_result",
          "data": {
            "text/plain": [
              "[]"
            ]
          },
          "metadata": {},
          "execution_count": 7
        }
      ]
    },
    {
      "cell_type": "code",
      "source": [
        "def eulerpath(G):\n",
        "    odd=0\n",
        "    a=list(G.degree(G.nodes()))\n",
        "    for i in a:\n",
        "        if (i[1] % 2) !=0:\n",
        "            odd+=1\n",
        "    if odd>2:\n",
        "        print(\"Not an Euler path:\",odd, \"vertices with odd degree\")\n",
        "    else:\n",
        "        print(\"There is a possible Euler path\")\n",
        ""
      ],
      "metadata": {
        "id": "aSBYERSnyWIz"
      },
      "execution_count": 6,
      "outputs": []
    },
    {
      "cell_type": "code",
      "source": [
        "eulerpath(G)"
      ],
      "metadata": {
        "colab": {
          "base_uri": "https://localhost:8080/"
        },
        "id": "xwj_IBy1ytqj",
        "outputId": "c3715412-798a-4e93-a054-f8b11c414901"
      },
      "execution_count": 8,
      "outputs": [
        {
          "output_type": "stream",
          "name": "stdout",
          "text": [
            "There is a possible Euler path\n"
          ]
        }
      ]
    }
  ]
}